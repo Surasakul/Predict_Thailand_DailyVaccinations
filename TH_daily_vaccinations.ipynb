{
  "nbformat": 4,
  "nbformat_minor": 0,
  "metadata": {
    "colab": {
      "name": "TH_daily_vaccinations.ipynb",
      "provenance": [],
      "collapsed_sections": []
    },
    "kernelspec": {
      "name": "python3",
      "display_name": "Python 3"
    },
    "language_info": {
      "name": "python"
    },
    "accelerator": "GPU"
  },
  "cells": [
    {
      "cell_type": "markdown",
      "metadata": {
        "id": "QpI00qPVA41K"
      },
      "source": [
        "[reference](https://towardsdatascience.com/crime-rate-prediction-using-facebook-prophet-5348e21273d)"
      ]
    },
    {
      "cell_type": "code",
      "metadata": {
        "id": "0L7ILp352GTU"
      },
      "source": [
        "import pandas as pd\n",
        "import numpy as np\n",
        "import seaborn as sns\n",
        "from fbprophet import Prophet\n",
        "import matplotlib.pyplot as plt"
      ],
      "execution_count": 1,
      "outputs": []
    },
    {
      "cell_type": "code",
      "metadata": {
        "colab": {
          "base_uri": "https://localhost:8080/"
        },
        "id": "DiZsbxOQ1tt8",
        "outputId": "f043c46e-375e-4628-c672-2cd2fd933270"
      },
      "source": [
        "from google.colab import drive\n",
        "\n",
        "drive.mount(\"/content/gdrive\")"
      ],
      "execution_count": 2,
      "outputs": [
        {
          "output_type": "stream",
          "text": [
            "Mounted at /content/gdrive\n"
          ],
          "name": "stdout"
        }
      ]
    },
    {
      "cell_type": "code",
      "metadata": {
        "id": "oaDyLk-y1wiF"
      },
      "source": [
        "df = pd.read_csv(\"/content/gdrive/My Drive/data/country_vaccinations.csv\")"
      ],
      "execution_count": 3,
      "outputs": []
    },
    {
      "cell_type": "code",
      "metadata": {
        "colab": {
          "base_uri": "https://localhost:8080/"
        },
        "id": "UZ1AJYhw2L9k",
        "outputId": "67876894-da0d-4694-df85-af13c921789b"
      },
      "source": [
        "df.shape"
      ],
      "execution_count": 4,
      "outputs": [
        {
          "output_type": "execute_result",
          "data": {
            "text/plain": [
              "(29412, 15)"
            ]
          },
          "metadata": {
            "tags": []
          },
          "execution_count": 4
        }
      ]
    },
    {
      "cell_type": "code",
      "metadata": {
        "colab": {
          "base_uri": "https://localhost:8080/",
          "height": 394
        },
        "id": "rhkXlFeN2OkM",
        "outputId": "fbcd1625-6449-4b83-c118-7951e60b323a"
      },
      "source": [
        "df.head()"
      ],
      "execution_count": 5,
      "outputs": [
        {
          "output_type": "execute_result",
          "data": {
            "text/html": [
              "<div>\n",
              "<style scoped>\n",
              "    .dataframe tbody tr th:only-of-type {\n",
              "        vertical-align: middle;\n",
              "    }\n",
              "\n",
              "    .dataframe tbody tr th {\n",
              "        vertical-align: top;\n",
              "    }\n",
              "\n",
              "    .dataframe thead th {\n",
              "        text-align: right;\n",
              "    }\n",
              "</style>\n",
              "<table border=\"1\" class=\"dataframe\">\n",
              "  <thead>\n",
              "    <tr style=\"text-align: right;\">\n",
              "      <th></th>\n",
              "      <th>country</th>\n",
              "      <th>iso_code</th>\n",
              "      <th>date</th>\n",
              "      <th>total_vaccinations</th>\n",
              "      <th>people_vaccinated</th>\n",
              "      <th>people_fully_vaccinated</th>\n",
              "      <th>daily_vaccinations_raw</th>\n",
              "      <th>daily_vaccinations</th>\n",
              "      <th>total_vaccinations_per_hundred</th>\n",
              "      <th>people_vaccinated_per_hundred</th>\n",
              "      <th>people_fully_vaccinated_per_hundred</th>\n",
              "      <th>daily_vaccinations_per_million</th>\n",
              "      <th>vaccines</th>\n",
              "      <th>source_name</th>\n",
              "      <th>source_website</th>\n",
              "    </tr>\n",
              "  </thead>\n",
              "  <tbody>\n",
              "    <tr>\n",
              "      <th>0</th>\n",
              "      <td>Afghanistan</td>\n",
              "      <td>AFG</td>\n",
              "      <td>2021-02-22</td>\n",
              "      <td>0.0</td>\n",
              "      <td>0.0</td>\n",
              "      <td>NaN</td>\n",
              "      <td>NaN</td>\n",
              "      <td>NaN</td>\n",
              "      <td>0.0</td>\n",
              "      <td>0.0</td>\n",
              "      <td>NaN</td>\n",
              "      <td>NaN</td>\n",
              "      <td>Oxford/AstraZeneca, Pfizer/BioNTech, Sinopharm...</td>\n",
              "      <td>World Health Organization</td>\n",
              "      <td>https://covid19.who.int/</td>\n",
              "    </tr>\n",
              "    <tr>\n",
              "      <th>1</th>\n",
              "      <td>Afghanistan</td>\n",
              "      <td>AFG</td>\n",
              "      <td>2021-02-23</td>\n",
              "      <td>NaN</td>\n",
              "      <td>NaN</td>\n",
              "      <td>NaN</td>\n",
              "      <td>NaN</td>\n",
              "      <td>1367.0</td>\n",
              "      <td>NaN</td>\n",
              "      <td>NaN</td>\n",
              "      <td>NaN</td>\n",
              "      <td>35.0</td>\n",
              "      <td>Oxford/AstraZeneca, Pfizer/BioNTech, Sinopharm...</td>\n",
              "      <td>World Health Organization</td>\n",
              "      <td>https://covid19.who.int/</td>\n",
              "    </tr>\n",
              "    <tr>\n",
              "      <th>2</th>\n",
              "      <td>Afghanistan</td>\n",
              "      <td>AFG</td>\n",
              "      <td>2021-02-24</td>\n",
              "      <td>NaN</td>\n",
              "      <td>NaN</td>\n",
              "      <td>NaN</td>\n",
              "      <td>NaN</td>\n",
              "      <td>1367.0</td>\n",
              "      <td>NaN</td>\n",
              "      <td>NaN</td>\n",
              "      <td>NaN</td>\n",
              "      <td>35.0</td>\n",
              "      <td>Oxford/AstraZeneca, Pfizer/BioNTech, Sinopharm...</td>\n",
              "      <td>World Health Organization</td>\n",
              "      <td>https://covid19.who.int/</td>\n",
              "    </tr>\n",
              "    <tr>\n",
              "      <th>3</th>\n",
              "      <td>Afghanistan</td>\n",
              "      <td>AFG</td>\n",
              "      <td>2021-02-25</td>\n",
              "      <td>NaN</td>\n",
              "      <td>NaN</td>\n",
              "      <td>NaN</td>\n",
              "      <td>NaN</td>\n",
              "      <td>1367.0</td>\n",
              "      <td>NaN</td>\n",
              "      <td>NaN</td>\n",
              "      <td>NaN</td>\n",
              "      <td>35.0</td>\n",
              "      <td>Oxford/AstraZeneca, Pfizer/BioNTech, Sinopharm...</td>\n",
              "      <td>World Health Organization</td>\n",
              "      <td>https://covid19.who.int/</td>\n",
              "    </tr>\n",
              "    <tr>\n",
              "      <th>4</th>\n",
              "      <td>Afghanistan</td>\n",
              "      <td>AFG</td>\n",
              "      <td>2021-02-26</td>\n",
              "      <td>NaN</td>\n",
              "      <td>NaN</td>\n",
              "      <td>NaN</td>\n",
              "      <td>NaN</td>\n",
              "      <td>1367.0</td>\n",
              "      <td>NaN</td>\n",
              "      <td>NaN</td>\n",
              "      <td>NaN</td>\n",
              "      <td>35.0</td>\n",
              "      <td>Oxford/AstraZeneca, Pfizer/BioNTech, Sinopharm...</td>\n",
              "      <td>World Health Organization</td>\n",
              "      <td>https://covid19.who.int/</td>\n",
              "    </tr>\n",
              "  </tbody>\n",
              "</table>\n",
              "</div>"
            ],
            "text/plain": [
              "       country iso_code  ...                source_name            source_website\n",
              "0  Afghanistan      AFG  ...  World Health Organization  https://covid19.who.int/\n",
              "1  Afghanistan      AFG  ...  World Health Organization  https://covid19.who.int/\n",
              "2  Afghanistan      AFG  ...  World Health Organization  https://covid19.who.int/\n",
              "3  Afghanistan      AFG  ...  World Health Organization  https://covid19.who.int/\n",
              "4  Afghanistan      AFG  ...  World Health Organization  https://covid19.who.int/\n",
              "\n",
              "[5 rows x 15 columns]"
            ]
          },
          "metadata": {
            "tags": []
          },
          "execution_count": 5
        }
      ]
    },
    {
      "cell_type": "code",
      "metadata": {
        "colab": {
          "base_uri": "https://localhost:8080/"
        },
        "id": "wWD_S-cz2QNE",
        "outputId": "f1281dbb-3e0c-4845-b175-09e255ae0206"
      },
      "source": [
        "df.isnull().any()"
      ],
      "execution_count": 6,
      "outputs": [
        {
          "output_type": "execute_result",
          "data": {
            "text/plain": [
              "country                                False\n",
              "iso_code                               False\n",
              "date                                   False\n",
              "total_vaccinations                      True\n",
              "people_vaccinated                       True\n",
              "people_fully_vaccinated                 True\n",
              "daily_vaccinations_raw                  True\n",
              "daily_vaccinations                      True\n",
              "total_vaccinations_per_hundred          True\n",
              "people_vaccinated_per_hundred           True\n",
              "people_fully_vaccinated_per_hundred     True\n",
              "daily_vaccinations_per_million          True\n",
              "vaccines                               False\n",
              "source_name                            False\n",
              "source_website                         False\n",
              "dtype: bool"
            ]
          },
          "metadata": {
            "tags": []
          },
          "execution_count": 6
        }
      ]
    },
    {
      "cell_type": "code",
      "metadata": {
        "id": "oR-GJuSS3lMl"
      },
      "source": [
        "df.drop(['iso_code', 'daily_vaccinations_raw', 'total_vaccinations_per_hundred', 'people_vaccinated_per_hundred', 'people_fully_vaccinated_per_hundred', \n",
        "              'daily_vaccinations_per_million','source_name','source_website'],\n",
        "        axis = 1,\n",
        "        inplace=True)"
      ],
      "execution_count": 7,
      "outputs": []
    },
    {
      "cell_type": "code",
      "metadata": {
        "colab": {
          "base_uri": "https://localhost:8080/",
          "height": 204
        },
        "id": "0qq84L2w4R9N",
        "outputId": "5028068a-d5f9-44b3-bcc7-3b1ed53f8e37"
      },
      "source": [
        "df.head()"
      ],
      "execution_count": 8,
      "outputs": [
        {
          "output_type": "execute_result",
          "data": {
            "text/html": [
              "<div>\n",
              "<style scoped>\n",
              "    .dataframe tbody tr th:only-of-type {\n",
              "        vertical-align: middle;\n",
              "    }\n",
              "\n",
              "    .dataframe tbody tr th {\n",
              "        vertical-align: top;\n",
              "    }\n",
              "\n",
              "    .dataframe thead th {\n",
              "        text-align: right;\n",
              "    }\n",
              "</style>\n",
              "<table border=\"1\" class=\"dataframe\">\n",
              "  <thead>\n",
              "    <tr style=\"text-align: right;\">\n",
              "      <th></th>\n",
              "      <th>country</th>\n",
              "      <th>date</th>\n",
              "      <th>total_vaccinations</th>\n",
              "      <th>people_vaccinated</th>\n",
              "      <th>people_fully_vaccinated</th>\n",
              "      <th>daily_vaccinations</th>\n",
              "      <th>vaccines</th>\n",
              "    </tr>\n",
              "  </thead>\n",
              "  <tbody>\n",
              "    <tr>\n",
              "      <th>0</th>\n",
              "      <td>Afghanistan</td>\n",
              "      <td>2021-02-22</td>\n",
              "      <td>0.0</td>\n",
              "      <td>0.0</td>\n",
              "      <td>NaN</td>\n",
              "      <td>NaN</td>\n",
              "      <td>Oxford/AstraZeneca, Pfizer/BioNTech, Sinopharm...</td>\n",
              "    </tr>\n",
              "    <tr>\n",
              "      <th>1</th>\n",
              "      <td>Afghanistan</td>\n",
              "      <td>2021-02-23</td>\n",
              "      <td>NaN</td>\n",
              "      <td>NaN</td>\n",
              "      <td>NaN</td>\n",
              "      <td>1367.0</td>\n",
              "      <td>Oxford/AstraZeneca, Pfizer/BioNTech, Sinopharm...</td>\n",
              "    </tr>\n",
              "    <tr>\n",
              "      <th>2</th>\n",
              "      <td>Afghanistan</td>\n",
              "      <td>2021-02-24</td>\n",
              "      <td>NaN</td>\n",
              "      <td>NaN</td>\n",
              "      <td>NaN</td>\n",
              "      <td>1367.0</td>\n",
              "      <td>Oxford/AstraZeneca, Pfizer/BioNTech, Sinopharm...</td>\n",
              "    </tr>\n",
              "    <tr>\n",
              "      <th>3</th>\n",
              "      <td>Afghanistan</td>\n",
              "      <td>2021-02-25</td>\n",
              "      <td>NaN</td>\n",
              "      <td>NaN</td>\n",
              "      <td>NaN</td>\n",
              "      <td>1367.0</td>\n",
              "      <td>Oxford/AstraZeneca, Pfizer/BioNTech, Sinopharm...</td>\n",
              "    </tr>\n",
              "    <tr>\n",
              "      <th>4</th>\n",
              "      <td>Afghanistan</td>\n",
              "      <td>2021-02-26</td>\n",
              "      <td>NaN</td>\n",
              "      <td>NaN</td>\n",
              "      <td>NaN</td>\n",
              "      <td>1367.0</td>\n",
              "      <td>Oxford/AstraZeneca, Pfizer/BioNTech, Sinopharm...</td>\n",
              "    </tr>\n",
              "  </tbody>\n",
              "</table>\n",
              "</div>"
            ],
            "text/plain": [
              "       country  ...                                           vaccines\n",
              "0  Afghanistan  ...  Oxford/AstraZeneca, Pfizer/BioNTech, Sinopharm...\n",
              "1  Afghanistan  ...  Oxford/AstraZeneca, Pfizer/BioNTech, Sinopharm...\n",
              "2  Afghanistan  ...  Oxford/AstraZeneca, Pfizer/BioNTech, Sinopharm...\n",
              "3  Afghanistan  ...  Oxford/AstraZeneca, Pfizer/BioNTech, Sinopharm...\n",
              "4  Afghanistan  ...  Oxford/AstraZeneca, Pfizer/BioNTech, Sinopharm...\n",
              "\n",
              "[5 rows x 7 columns]"
            ]
          },
          "metadata": {
            "tags": []
          },
          "execution_count": 8
        }
      ]
    },
    {
      "cell_type": "code",
      "metadata": {
        "colab": {
          "base_uri": "https://localhost:8080/",
          "height": 204
        },
        "id": "RnEsqDdz5yAy",
        "outputId": "e49c6663-ebca-4b87-f458-d5a9c5413454"
      },
      "source": [
        "newdf = df[df.country == \"Thailand\"]\n",
        "newdf.head()"
      ],
      "execution_count": 9,
      "outputs": [
        {
          "output_type": "execute_result",
          "data": {
            "text/html": [
              "<div>\n",
              "<style scoped>\n",
              "    .dataframe tbody tr th:only-of-type {\n",
              "        vertical-align: middle;\n",
              "    }\n",
              "\n",
              "    .dataframe tbody tr th {\n",
              "        vertical-align: top;\n",
              "    }\n",
              "\n",
              "    .dataframe thead th {\n",
              "        text-align: right;\n",
              "    }\n",
              "</style>\n",
              "<table border=\"1\" class=\"dataframe\">\n",
              "  <thead>\n",
              "    <tr style=\"text-align: right;\">\n",
              "      <th></th>\n",
              "      <th>country</th>\n",
              "      <th>date</th>\n",
              "      <th>total_vaccinations</th>\n",
              "      <th>people_vaccinated</th>\n",
              "      <th>people_fully_vaccinated</th>\n",
              "      <th>daily_vaccinations</th>\n",
              "      <th>vaccines</th>\n",
              "    </tr>\n",
              "  </thead>\n",
              "  <tbody>\n",
              "    <tr>\n",
              "      <th>26471</th>\n",
              "      <td>Thailand</td>\n",
              "      <td>2021-02-27</td>\n",
              "      <td>0.0</td>\n",
              "      <td>0.0</td>\n",
              "      <td>NaN</td>\n",
              "      <td>NaN</td>\n",
              "      <td>Oxford/AstraZeneca, Sinopharm/Beijing, Sinovac</td>\n",
              "    </tr>\n",
              "    <tr>\n",
              "      <th>26472</th>\n",
              "      <td>Thailand</td>\n",
              "      <td>2021-02-28</td>\n",
              "      <td>NaN</td>\n",
              "      <td>NaN</td>\n",
              "      <td>NaN</td>\n",
              "      <td>160.0</td>\n",
              "      <td>Oxford/AstraZeneca, Sinopharm/Beijing, Sinovac</td>\n",
              "    </tr>\n",
              "    <tr>\n",
              "      <th>26473</th>\n",
              "      <td>Thailand</td>\n",
              "      <td>2021-03-01</td>\n",
              "      <td>319.0</td>\n",
              "      <td>319.0</td>\n",
              "      <td>NaN</td>\n",
              "      <td>160.0</td>\n",
              "      <td>Oxford/AstraZeneca, Sinopharm/Beijing, Sinovac</td>\n",
              "    </tr>\n",
              "    <tr>\n",
              "      <th>26474</th>\n",
              "      <td>Thailand</td>\n",
              "      <td>2021-03-02</td>\n",
              "      <td>7262.0</td>\n",
              "      <td>7262.0</td>\n",
              "      <td>NaN</td>\n",
              "      <td>2421.0</td>\n",
              "      <td>Oxford/AstraZeneca, Sinopharm/Beijing, Sinovac</td>\n",
              "    </tr>\n",
              "    <tr>\n",
              "      <th>26475</th>\n",
              "      <td>Thailand</td>\n",
              "      <td>2021-03-03</td>\n",
              "      <td>NaN</td>\n",
              "      <td>NaN</td>\n",
              "      <td>NaN</td>\n",
              "      <td>2639.0</td>\n",
              "      <td>Oxford/AstraZeneca, Sinopharm/Beijing, Sinovac</td>\n",
              "    </tr>\n",
              "  </tbody>\n",
              "</table>\n",
              "</div>"
            ],
            "text/plain": [
              "        country  ...                                        vaccines\n",
              "26471  Thailand  ...  Oxford/AstraZeneca, Sinopharm/Beijing, Sinovac\n",
              "26472  Thailand  ...  Oxford/AstraZeneca, Sinopharm/Beijing, Sinovac\n",
              "26473  Thailand  ...  Oxford/AstraZeneca, Sinopharm/Beijing, Sinovac\n",
              "26474  Thailand  ...  Oxford/AstraZeneca, Sinopharm/Beijing, Sinovac\n",
              "26475  Thailand  ...  Oxford/AstraZeneca, Sinopharm/Beijing, Sinovac\n",
              "\n",
              "[5 rows x 7 columns]"
            ]
          },
          "metadata": {
            "tags": []
          },
          "execution_count": 9
        }
      ]
    },
    {
      "cell_type": "code",
      "metadata": {
        "colab": {
          "base_uri": "https://localhost:8080/",
          "height": 419
        },
        "id": "-QKHBnG19-hk",
        "outputId": "ce594b49-fc16-43e0-f700-77141179a6cb"
      },
      "source": [
        "newdf.dropna()"
      ],
      "execution_count": 10,
      "outputs": [
        {
          "output_type": "execute_result",
          "data": {
            "text/html": [
              "<div>\n",
              "<style scoped>\n",
              "    .dataframe tbody tr th:only-of-type {\n",
              "        vertical-align: middle;\n",
              "    }\n",
              "\n",
              "    .dataframe tbody tr th {\n",
              "        vertical-align: top;\n",
              "    }\n",
              "\n",
              "    .dataframe thead th {\n",
              "        text-align: right;\n",
              "    }\n",
              "</style>\n",
              "<table border=\"1\" class=\"dataframe\">\n",
              "  <thead>\n",
              "    <tr style=\"text-align: right;\">\n",
              "      <th></th>\n",
              "      <th>country</th>\n",
              "      <th>date</th>\n",
              "      <th>total_vaccinations</th>\n",
              "      <th>people_vaccinated</th>\n",
              "      <th>people_fully_vaccinated</th>\n",
              "      <th>daily_vaccinations</th>\n",
              "      <th>vaccines</th>\n",
              "    </tr>\n",
              "  </thead>\n",
              "  <tbody>\n",
              "    <tr>\n",
              "      <th>26496</th>\n",
              "      <td>Thailand</td>\n",
              "      <td>2021-03-24</td>\n",
              "      <td>102050.0</td>\n",
              "      <td>96188.0</td>\n",
              "      <td>5862.0</td>\n",
              "      <td>4383.0</td>\n",
              "      <td>Oxford/AstraZeneca, Sinopharm/Beijing, Sinovac</td>\n",
              "    </tr>\n",
              "    <tr>\n",
              "      <th>26502</th>\n",
              "      <td>Thailand</td>\n",
              "      <td>2021-03-30</td>\n",
              "      <td>180477.0</td>\n",
              "      <td>151413.0</td>\n",
              "      <td>29064.0</td>\n",
              "      <td>11830.0</td>\n",
              "      <td>Oxford/AstraZeneca, Sinopharm/Beijing, Sinovac</td>\n",
              "    </tr>\n",
              "    <tr>\n",
              "      <th>26504</th>\n",
              "      <td>Thailand</td>\n",
              "      <td>2021-04-01</td>\n",
              "      <td>204642.0</td>\n",
              "      <td>167235.0</td>\n",
              "      <td>37407.0</td>\n",
              "      <td>12789.0</td>\n",
              "      <td>Oxford/AstraZeneca, Sinopharm/Beijing, Sinovac</td>\n",
              "    </tr>\n",
              "    <tr>\n",
              "      <th>26505</th>\n",
              "      <td>Thailand</td>\n",
              "      <td>2021-04-02</td>\n",
              "      <td>231882.0</td>\n",
              "      <td>189666.0</td>\n",
              "      <td>42216.0</td>\n",
              "      <td>14813.0</td>\n",
              "      <td>Oxford/AstraZeneca, Sinopharm/Beijing, Sinovac</td>\n",
              "    </tr>\n",
              "    <tr>\n",
              "      <th>26506</th>\n",
              "      <td>Thailand</td>\n",
              "      <td>2021-04-03</td>\n",
              "      <td>244254.0</td>\n",
              "      <td>201864.0</td>\n",
              "      <td>42390.0</td>\n",
              "      <td>14713.0</td>\n",
              "      <td>Oxford/AstraZeneca, Sinopharm/Beijing, Sinovac</td>\n",
              "    </tr>\n",
              "    <tr>\n",
              "      <th>...</th>\n",
              "      <td>...</td>\n",
              "      <td>...</td>\n",
              "      <td>...</td>\n",
              "      <td>...</td>\n",
              "      <td>...</td>\n",
              "      <td>...</td>\n",
              "      <td>...</td>\n",
              "    </tr>\n",
              "    <tr>\n",
              "      <th>26596</th>\n",
              "      <td>Thailand</td>\n",
              "      <td>2021-07-02</td>\n",
              "      <td>10572292.0</td>\n",
              "      <td>7640118.0</td>\n",
              "      <td>2932174.0</td>\n",
              "      <td>227259.0</td>\n",
              "      <td>Oxford/AstraZeneca, Sinopharm/Beijing, Sinovac</td>\n",
              "    </tr>\n",
              "    <tr>\n",
              "      <th>26597</th>\n",
              "      <td>Thailand</td>\n",
              "      <td>2021-07-03</td>\n",
              "      <td>10670897.0</td>\n",
              "      <td>7721150.0</td>\n",
              "      <td>2949747.0</td>\n",
              "      <td>230822.0</td>\n",
              "      <td>Oxford/AstraZeneca, Sinopharm/Beijing, Sinovac</td>\n",
              "    </tr>\n",
              "    <tr>\n",
              "      <th>26598</th>\n",
              "      <td>Thailand</td>\n",
              "      <td>2021-07-04</td>\n",
              "      <td>10777748.0</td>\n",
              "      <td>7804654.0</td>\n",
              "      <td>2973094.0</td>\n",
              "      <td>232891.0</td>\n",
              "      <td>Oxford/AstraZeneca, Sinopharm/Beijing, Sinovac</td>\n",
              "    </tr>\n",
              "    <tr>\n",
              "      <th>26599</th>\n",
              "      <td>Thailand</td>\n",
              "      <td>2021-07-05</td>\n",
              "      <td>11058390.0</td>\n",
              "      <td>8022029.0</td>\n",
              "      <td>3036361.0</td>\n",
              "      <td>234488.0</td>\n",
              "      <td>Oxford/AstraZeneca, Sinopharm/Beijing, Sinovac</td>\n",
              "    </tr>\n",
              "    <tr>\n",
              "      <th>26600</th>\n",
              "      <td>Thailand</td>\n",
              "      <td>2021-07-06</td>\n",
              "      <td>11328043.0</td>\n",
              "      <td>8245297.0</td>\n",
              "      <td>3082746.0</td>\n",
              "      <td>236477.0</td>\n",
              "      <td>Oxford/AstraZeneca, Sinopharm/Beijing, Sinovac</td>\n",
              "    </tr>\n",
              "  </tbody>\n",
              "</table>\n",
              "<p>95 rows × 7 columns</p>\n",
              "</div>"
            ],
            "text/plain": [
              "        country  ...                                        vaccines\n",
              "26496  Thailand  ...  Oxford/AstraZeneca, Sinopharm/Beijing, Sinovac\n",
              "26502  Thailand  ...  Oxford/AstraZeneca, Sinopharm/Beijing, Sinovac\n",
              "26504  Thailand  ...  Oxford/AstraZeneca, Sinopharm/Beijing, Sinovac\n",
              "26505  Thailand  ...  Oxford/AstraZeneca, Sinopharm/Beijing, Sinovac\n",
              "26506  Thailand  ...  Oxford/AstraZeneca, Sinopharm/Beijing, Sinovac\n",
              "...         ...  ...                                             ...\n",
              "26596  Thailand  ...  Oxford/AstraZeneca, Sinopharm/Beijing, Sinovac\n",
              "26597  Thailand  ...  Oxford/AstraZeneca, Sinopharm/Beijing, Sinovac\n",
              "26598  Thailand  ...  Oxford/AstraZeneca, Sinopharm/Beijing, Sinovac\n",
              "26599  Thailand  ...  Oxford/AstraZeneca, Sinopharm/Beijing, Sinovac\n",
              "26600  Thailand  ...  Oxford/AstraZeneca, Sinopharm/Beijing, Sinovac\n",
              "\n",
              "[95 rows x 7 columns]"
            ]
          },
          "metadata": {
            "tags": []
          },
          "execution_count": 10
        }
      ]
    },
    {
      "cell_type": "code",
      "metadata": {
        "colab": {
          "base_uri": "https://localhost:8080/",
          "height": 469
        },
        "id": "Ox-CW_Rf5OZj",
        "outputId": "858580ed-8940-4e09-b586-b10bb078d65d"
      },
      "source": [
        "fig = plt.figure(figsize = (12, 8))\n",
        "plt.plot(newdf['date'], newdf['daily_vaccinations'])\n",
        "# plt.xticks(rotation = 45)\n",
        "plt.xlabel('date')\n",
        "plt.ylabel('daily_vaccinations')\n",
        "plt.gca().axes.get_xaxis().set_visible(False)"
      ],
      "execution_count": 11,
      "outputs": [
        {
          "output_type": "display_data",
          "data": {
            "image/png": "[encoded data removed]",
            "text/plain": [
              "<Figure size 864x576 with 1 Axes>"
            ]
          },
          "metadata": {
            "tags": [],
            "needs_background": "light"
          }
        }
      ]
    },
    {
      "cell_type": "code",
      "metadata": {
        "id": "2iTfuk0j7kkU"
      },
      "source": [
        "df_prophet = newdf[['date', 'daily_vaccinations']]\n",
        "df_prophet = df_prophet.rename(columns = {'date': 'ds', 'daily_vaccinations': 'y'})"
      ],
      "execution_count": 12,
      "outputs": []
    },
    {
      "cell_type": "code",
      "metadata": {
        "colab": {
          "base_uri": "https://localhost:8080/",
          "height": 419
        },
        "id": "3ndblK0i8Eoz",
        "outputId": "83b49a17-e286-4c12-dc1f-002b40047106"
      },
      "source": [
        "df_prophet.dropna()"
      ],
      "execution_count": 13,
      "outputs": [
        {
          "output_type": "execute_result",
          "data": {
            "text/html": [
              "<div>\n",
              "<style scoped>\n",
              "    .dataframe tbody tr th:only-of-type {\n",
              "        vertical-align: middle;\n",
              "    }\n",
              "\n",
              "    .dataframe tbody tr th {\n",
              "        vertical-align: top;\n",
              "    }\n",
              "\n",
              "    .dataframe thead th {\n",
              "        text-align: right;\n",
              "    }\n",
              "</style>\n",
              "<table border=\"1\" class=\"dataframe\">\n",
              "  <thead>\n",
              "    <tr style=\"text-align: right;\">\n",
              "      <th></th>\n",
              "      <th>ds</th>\n",
              "      <th>y</th>\n",
              "    </tr>\n",
              "  </thead>\n",
              "  <tbody>\n",
              "    <tr>\n",
              "      <th>26472</th>\n",
              "      <td>2021-02-28</td>\n",
              "      <td>160.0</td>\n",
              "    </tr>\n",
              "    <tr>\n",
              "      <th>26473</th>\n",
              "      <td>2021-03-01</td>\n",
              "      <td>160.0</td>\n",
              "    </tr>\n",
              "    <tr>\n",
              "      <th>26474</th>\n",
              "      <td>2021-03-02</td>\n",
              "      <td>2421.0</td>\n",
              "    </tr>\n",
              "    <tr>\n",
              "      <th>26475</th>\n",
              "      <td>2021-03-03</td>\n",
              "      <td>2639.0</td>\n",
              "    </tr>\n",
              "    <tr>\n",
              "      <th>26476</th>\n",
              "      <td>2021-03-04</td>\n",
              "      <td>2770.0</td>\n",
              "    </tr>\n",
              "    <tr>\n",
              "      <th>...</th>\n",
              "      <td>...</td>\n",
              "      <td>...</td>\n",
              "    </tr>\n",
              "    <tr>\n",
              "      <th>26596</th>\n",
              "      <td>2021-07-02</td>\n",
              "      <td>227259.0</td>\n",
              "    </tr>\n",
              "    <tr>\n",
              "      <th>26597</th>\n",
              "      <td>2021-07-03</td>\n",
              "      <td>230822.0</td>\n",
              "    </tr>\n",
              "    <tr>\n",
              "      <th>26598</th>\n",
              "      <td>2021-07-04</td>\n",
              "      <td>232891.0</td>\n",
              "    </tr>\n",
              "    <tr>\n",
              "      <th>26599</th>\n",
              "      <td>2021-07-05</td>\n",
              "      <td>234488.0</td>\n",
              "    </tr>\n",
              "    <tr>\n",
              "      <th>26600</th>\n",
              "      <td>2021-07-06</td>\n",
              "      <td>236477.0</td>\n",
              "    </tr>\n",
              "  </tbody>\n",
              "</table>\n",
              "<p>129 rows × 2 columns</p>\n",
              "</div>"
            ],
            "text/plain": [
              "               ds         y\n",
              "26472  2021-02-28     160.0\n",
              "26473  2021-03-01     160.0\n",
              "26474  2021-03-02    2421.0\n",
              "26475  2021-03-03    2639.0\n",
              "26476  2021-03-04    2770.0\n",
              "...           ...       ...\n",
              "26596  2021-07-02  227259.0\n",
              "26597  2021-07-03  230822.0\n",
              "26598  2021-07-04  232891.0\n",
              "26599  2021-07-05  234488.0\n",
              "26600  2021-07-06  236477.0\n",
              "\n",
              "[129 rows x 2 columns]"
            ]
          },
          "metadata": {
            "tags": []
          },
          "execution_count": 13
        }
      ]
    },
    {
      "cell_type": "code",
      "metadata": {
        "colab": {
          "base_uri": "https://localhost:8080/"
        },
        "id": "Huq-Fh1a_UTL",
        "outputId": "e25edda8-9fd5-4797-de27-76ecde0351e6"
      },
      "source": [
        "m = Prophet()\n",
        "m.fit(df_prophet)"
      ],
      "execution_count": 14,
      "outputs": [
        {
          "output_type": "stream",
          "text": [
            "INFO:fbprophet:Disabling yearly seasonality. Run prophet with yearly_seasonality=True to override this.\n",
            "INFO:fbprophet:Disabling daily seasonality. Run prophet with daily_seasonality=True to override this.\n"
          ],
          "name": "stderr"
        },
        {
          "output_type": "execute_result",
          "data": {
            "text/plain": [
              "<fbprophet.forecaster.Prophet at 0x7fc7bc46f050>"
            ]
          },
          "metadata": {
            "tags": []
          },
          "execution_count": 14
        }
      ]
    },
    {
      "cell_type": "code",
      "metadata": {
        "id": "XP0S4FXY_aIz"
      },
      "source": [
        "future = m.make_future_dataframe(periods = 30)\n",
        "forecast = m.predict(future)"
      ],
      "execution_count": 15,
      "outputs": []
    },
    {
      "cell_type": "code",
      "metadata": {
        "colab": {
          "base_uri": "https://localhost:8080/",
          "height": 609
        },
        "id": "CCkfe3h1_d6C",
        "outputId": "d91e63ef-68d8-4e9c-d544-5fb3b20fe6c8"
      },
      "source": [
        "forecast"
      ],
      "execution_count": 16,
      "outputs": [
        {
          "output_type": "execute_result",
          "data": {
            "text/html": [
              "<div>\n",
              "<style scoped>\n",
              "    .dataframe tbody tr th:only-of-type {\n",
              "        vertical-align: middle;\n",
              "    }\n",
              "\n",
              "    .dataframe tbody tr th {\n",
              "        vertical-align: top;\n",
              "    }\n",
              "\n",
              "    .dataframe thead th {\n",
              "        text-align: right;\n",
              "    }\n",
              "</style>\n",
              "<table border=\"1\" class=\"dataframe\">\n",
              "  <thead>\n",
              "    <tr style=\"text-align: right;\">\n",
              "      <th></th>\n",
              "      <th>ds</th>\n",
              "      <th>trend</th>\n",
              "      <th>yhat_lower</th>\n",
              "      <th>yhat_upper</th>\n",
              "      <th>trend_lower</th>\n",
              "      <th>trend_upper</th>\n",
              "      <th>additive_terms</th>\n",
              "      <th>additive_terms_lower</th>\n",
              "      <th>additive_terms_upper</th>\n",
              "      <th>weekly</th>\n",
              "      <th>weekly_lower</th>\n",
              "      <th>weekly_upper</th>\n",
              "      <th>multiplicative_terms</th>\n",
              "      <th>multiplicative_terms_lower</th>\n",
              "      <th>multiplicative_terms_upper</th>\n",
              "      <th>yhat</th>\n",
              "    </tr>\n",
              "  </thead>\n",
              "  <tbody>\n",
              "    <tr>\n",
              "      <th>0</th>\n",
              "      <td>2021-02-27</td>\n",
              "      <td>-18476.477191</td>\n",
              "      <td>-52926.403727</td>\n",
              "      <td>17883.604944</td>\n",
              "      <td>-18476.477191</td>\n",
              "      <td>-18476.477191</td>\n",
              "      <td>-175.372799</td>\n",
              "      <td>-175.372799</td>\n",
              "      <td>-175.372799</td>\n",
              "      <td>-175.372799</td>\n",
              "      <td>-175.372799</td>\n",
              "      <td>-175.372799</td>\n",
              "      <td>0.0</td>\n",
              "      <td>0.0</td>\n",
              "      <td>0.0</td>\n",
              "      <td>-18651.849990</td>\n",
              "    </tr>\n",
              "    <tr>\n",
              "      <th>1</th>\n",
              "      <td>2021-02-28</td>\n",
              "      <td>-17321.659262</td>\n",
              "      <td>-54145.555348</td>\n",
              "      <td>16507.517912</td>\n",
              "      <td>-17321.659262</td>\n",
              "      <td>-17321.659262</td>\n",
              "      <td>-586.145697</td>\n",
              "      <td>-586.145697</td>\n",
              "      <td>-586.145697</td>\n",
              "      <td>-586.145697</td>\n",
              "      <td>-586.145697</td>\n",
              "      <td>-586.145697</td>\n",
              "      <td>0.0</td>\n",
              "      <td>0.0</td>\n",
              "      <td>0.0</td>\n",
              "      <td>-17907.804958</td>\n",
              "    </tr>\n",
              "    <tr>\n",
              "      <th>2</th>\n",
              "      <td>2021-03-01</td>\n",
              "      <td>-16166.841332</td>\n",
              "      <td>-52845.163946</td>\n",
              "      <td>20793.454293</td>\n",
              "      <td>-16166.841332</td>\n",
              "      <td>-16166.841332</td>\n",
              "      <td>-493.929552</td>\n",
              "      <td>-493.929552</td>\n",
              "      <td>-493.929552</td>\n",
              "      <td>-493.929552</td>\n",
              "      <td>-493.929552</td>\n",
              "      <td>-493.929552</td>\n",
              "      <td>0.0</td>\n",
              "      <td>0.0</td>\n",
              "      <td>0.0</td>\n",
              "      <td>-16660.770884</td>\n",
              "    </tr>\n",
              "    <tr>\n",
              "      <th>3</th>\n",
              "      <td>2021-03-02</td>\n",
              "      <td>-15012.023402</td>\n",
              "      <td>-50053.233303</td>\n",
              "      <td>20449.521382</td>\n",
              "      <td>-15012.023402</td>\n",
              "      <td>-15012.023402</td>\n",
              "      <td>-437.716852</td>\n",
              "      <td>-437.716852</td>\n",
              "      <td>-437.716852</td>\n",
              "      <td>-437.716852</td>\n",
              "      <td>-437.716852</td>\n",
              "      <td>-437.716852</td>\n",
              "      <td>0.0</td>\n",
              "      <td>0.0</td>\n",
              "      <td>0.0</td>\n",
              "      <td>-15449.740254</td>\n",
              "    </tr>\n",
              "    <tr>\n",
              "      <th>4</th>\n",
              "      <td>2021-03-03</td>\n",
              "      <td>-13857.205472</td>\n",
              "      <td>-47839.064092</td>\n",
              "      <td>23720.149589</td>\n",
              "      <td>-13857.205472</td>\n",
              "      <td>-13857.205472</td>\n",
              "      <td>113.265260</td>\n",
              "      <td>113.265260</td>\n",
              "      <td>113.265260</td>\n",
              "      <td>113.265260</td>\n",
              "      <td>113.265260</td>\n",
              "      <td>113.265260</td>\n",
              "      <td>0.0</td>\n",
              "      <td>0.0</td>\n",
              "      <td>0.0</td>\n",
              "      <td>-13743.940212</td>\n",
              "    </tr>\n",
              "    <tr>\n",
              "      <th>...</th>\n",
              "      <td>...</td>\n",
              "      <td>...</td>\n",
              "      <td>...</td>\n",
              "      <td>...</td>\n",
              "      <td>...</td>\n",
              "      <td>...</td>\n",
              "      <td>...</td>\n",
              "      <td>...</td>\n",
              "      <td>...</td>\n",
              "      <td>...</td>\n",
              "      <td>...</td>\n",
              "      <td>...</td>\n",
              "      <td>...</td>\n",
              "      <td>...</td>\n",
              "      <td>...</td>\n",
              "      <td>...</td>\n",
              "    </tr>\n",
              "    <tr>\n",
              "      <th>155</th>\n",
              "      <td>2021-08-01</td>\n",
              "      <td>337748.572607</td>\n",
              "      <td>301044.310863</td>\n",
              "      <td>374731.164732</td>\n",
              "      <td>333468.867767</td>\n",
              "      <td>342900.237937</td>\n",
              "      <td>-586.145697</td>\n",
              "      <td>-586.145697</td>\n",
              "      <td>-586.145697</td>\n",
              "      <td>-586.145697</td>\n",
              "      <td>-586.145697</td>\n",
              "      <td>-586.145697</td>\n",
              "      <td>0.0</td>\n",
              "      <td>0.0</td>\n",
              "      <td>0.0</td>\n",
              "      <td>337162.426911</td>\n",
              "    </tr>\n",
              "    <tr>\n",
              "      <th>156</th>\n",
              "      <td>2021-08-02</td>\n",
              "      <td>341121.533737</td>\n",
              "      <td>307101.109048</td>\n",
              "      <td>378023.660645</td>\n",
              "      <td>336576.992733</td>\n",
              "      <td>346529.124375</td>\n",
              "      <td>-493.929552</td>\n",
              "      <td>-493.929552</td>\n",
              "      <td>-493.929552</td>\n",
              "      <td>-493.929552</td>\n",
              "      <td>-493.929552</td>\n",
              "      <td>-493.929552</td>\n",
              "      <td>0.0</td>\n",
              "      <td>0.0</td>\n",
              "      <td>0.0</td>\n",
              "      <td>340627.604185</td>\n",
              "    </tr>\n",
              "    <tr>\n",
              "      <th>157</th>\n",
              "      <td>2021-08-03</td>\n",
              "      <td>344494.494867</td>\n",
              "      <td>305734.870385</td>\n",
              "      <td>380098.720739</td>\n",
              "      <td>339644.567770</td>\n",
              "      <td>350216.966986</td>\n",
              "      <td>-437.716852</td>\n",
              "      <td>-437.716852</td>\n",
              "      <td>-437.716852</td>\n",
              "      <td>-437.716852</td>\n",
              "      <td>-437.716852</td>\n",
              "      <td>-437.716852</td>\n",
              "      <td>0.0</td>\n",
              "      <td>0.0</td>\n",
              "      <td>0.0</td>\n",
              "      <td>344056.778015</td>\n",
              "    </tr>\n",
              "    <tr>\n",
              "      <th>158</th>\n",
              "      <td>2021-08-04</td>\n",
              "      <td>347867.455997</td>\n",
              "      <td>309425.112731</td>\n",
              "      <td>388596.941863</td>\n",
              "      <td>342689.759292</td>\n",
              "      <td>353891.705181</td>\n",
              "      <td>113.265260</td>\n",
              "      <td>113.265260</td>\n",
              "      <td>113.265260</td>\n",
              "      <td>113.265260</td>\n",
              "      <td>113.265260</td>\n",
              "      <td>113.265260</td>\n",
              "      <td>0.0</td>\n",
              "      <td>0.0</td>\n",
              "      <td>0.0</td>\n",
              "      <td>347980.721257</td>\n",
              "    </tr>\n",
              "    <tr>\n",
              "      <th>159</th>\n",
              "      <td>2021-08-05</td>\n",
              "      <td>351240.417126</td>\n",
              "      <td>315931.305883</td>\n",
              "      <td>388802.424320</td>\n",
              "      <td>345762.928012</td>\n",
              "      <td>357510.092656</td>\n",
              "      <td>443.080626</td>\n",
              "      <td>443.080626</td>\n",
              "      <td>443.080626</td>\n",
              "      <td>443.080626</td>\n",
              "      <td>443.080626</td>\n",
              "      <td>443.080626</td>\n",
              "      <td>0.0</td>\n",
              "      <td>0.0</td>\n",
              "      <td>0.0</td>\n",
              "      <td>351683.497753</td>\n",
              "    </tr>\n",
              "  </tbody>\n",
              "</table>\n",
              "<p>160 rows × 16 columns</p>\n",
              "</div>"
            ],
            "text/plain": [
              "            ds          trend  ...  multiplicative_terms_upper           yhat\n",
              "0   2021-02-27  -18476.477191  ...                         0.0  -18651.849990\n",
              "1   2021-02-28  -17321.659262  ...                         0.0  -17907.804958\n",
              "2   2021-03-01  -16166.841332  ...                         0.0  -16660.770884\n",
              "3   2021-03-02  -15012.023402  ...                         0.0  -15449.740254\n",
              "4   2021-03-03  -13857.205472  ...                         0.0  -13743.940212\n",
              "..         ...            ...  ...                         ...            ...\n",
              "155 2021-08-01  337748.572607  ...                         0.0  337162.426911\n",
              "156 2021-08-02  341121.533737  ...                         0.0  340627.604185\n",
              "157 2021-08-03  344494.494867  ...                         0.0  344056.778015\n",
              "158 2021-08-04  347867.455997  ...                         0.0  347980.721257\n",
              "159 2021-08-05  351240.417126  ...                         0.0  351683.497753\n",
              "\n",
              "[160 rows x 16 columns]"
            ]
          },
          "metadata": {
            "tags": []
          },
          "execution_count": 16
        }
      ]
    },
    {
      "cell_type": "code",
      "metadata": {
        "colab": {
          "base_uri": "https://localhost:8080/",
          "height": 441
        },
        "id": "_6V-ihGE_i1S",
        "outputId": "100fd85d-3a00-4f80-aabe-80fd155c2ca1"
      },
      "source": [
        "figure = m.plot(forecast, xlabel = 'Date', ylabel = 'daily_vaccinations')"
      ],
      "execution_count": 17,
      "outputs": [
        {
          "output_type": "display_data",
          "data": {
            "image/png": "[encoded data removed]",
            "text/plain": [
              "<Figure size 720x432 with 1 Axes>"
            ]
          },
          "metadata": {
            "tags": []
          }
        }
      ]
    },
    {
      "cell_type": "code",
      "metadata": {
        "colab": {
          "base_uri": "https://localhost:8080/",
          "height": 441
        },
        "id": "ooPJ1Omf_yjh",
        "outputId": "34dfaad4-2c3c-4e83-fce9-7c900428afbc"
      },
      "source": [
        "figure = m.plot_components(forecast)"
      ],
      "execution_count": 18,
      "outputs": [
        {
          "output_type": "display_data",
          "data": {
            "image/png": "[encoded data removed]",
            "text/plain": [
              "<Figure size 648x432 with 2 Axes>"
            ]
          },
          "metadata": {
            "tags": []
          }
        }
      ]
    }
  ]
}