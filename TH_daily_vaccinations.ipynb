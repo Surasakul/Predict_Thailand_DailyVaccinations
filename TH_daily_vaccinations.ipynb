{
  "nbformat": 4,
  "nbformat_minor": 0,
  "metadata": {
    "colab": {
      "name": "TH_daily_vaccinations.ipynb",
      "provenance": [],
      "collapsed_sections": []
    },
    "kernelspec": {
      "name": "python3",
      "display_name": "Python 3"
    },
    "language_info": {
      "name": "python"
    },
    "accelerator": "GPU"
  },
  "cells": [
    {
      "cell_type": "markdown",
      "metadata": {
        "id": "QpI00qPVA41K"
      },
      "source": [
        "[reference](https://towardsdatascience.com/crime-rate-prediction-using-facebook-prophet-5348e21273d)"
      ]
    },
    {
      "cell_type": "code",
      "metadata": {
        "id": "0L7ILp352GTU"
      },
      "source": [
        "import pandas as pd\n",
        "import numpy as np\n",
        "import seaborn as sns\n",
        "from fbprophet import Prophet\n",
        "import matplotlib.pyplot as plt"
      ],
      "execution_count": null,
      "outputs": []
    },
    {
      "cell_type": "code",
      "metadata": {
        "colab": {
          "base_uri": "https://localhost:8080/"
        },
        "id": "DiZsbxOQ1tt8",
        "outputId": "2f3ae141-0fa3-44a3-d903-4d36954ed09d"
      },
      "source": [
        "from google.colab import drive\n",
        "\n",
        "drive.mount(\"/content/gdrive\")"
      ],
      "execution_count": null,
      "outputs": [
        {
          "output_type": "stream",
          "text": [
            "Drive already mounted at /content/gdrive; to attempt to forcibly remount, call drive.mount(\"/content/gdrive\", force_remount=True).\n"
          ],
          "name": "stdout"
        }
      ]
    },
    {
      "cell_type": "code",
      "metadata": {
        "id": "oaDyLk-y1wiF"
      },
      "source": [
        "df = pd.read_csv(\"/content/gdrive/My Drive/data/country_vaccinations.csv\")"
      ],
      "execution_count": null,
      "outputs": []
    },
    {
      "cell_type": "code",
      "metadata": {
        "colab": {
          "base_uri": "https://localhost:8080/"
        },
        "id": "UZ1AJYhw2L9k",
        "outputId": "744d49cb-e20d-4bfc-e0fd-ef18d360d4e7"
      },
      "source": [
        "df.shape"
      ],
      "execution_count": null,
      "outputs": [
        {
          "output_type": "execute_result",
          "data": {
            "text/plain": [
              "(28158, 15)"
            ]
          },
          "metadata": {
            "tags": []
          },
          "execution_count": 22
        }
      ]
    },
    {
      "cell_type": "code",
      "metadata": {
        "colab": {
          "base_uri": "https://localhost:8080/",
          "height": 394
        },
        "id": "rhkXlFeN2OkM",
        "outputId": "60627ee4-9195-4070-86c6-ac400d566088"
      },
      "source": [
        "df.head()"
      ],
      "execution_count": null,
      "outputs": [
        {
          "output_type": "execute_result",
          "data": {
            "text/html": [
              "<div>\n",
              "<style scoped>\n",
              "    .dataframe tbody tr th:only-of-type {\n",
              "        vertical-align: middle;\n",
              "    }\n",
              "\n",
              "    .dataframe tbody tr th {\n",
              "        vertical-align: top;\n",
              "    }\n",
              "\n",
              "    .dataframe thead th {\n",
              "        text-align: right;\n",
              "    }\n",
              "</style>\n",
              "<table border=\"1\" class=\"dataframe\">\n",
              "  <thead>\n",
              "    <tr style=\"text-align: right;\">\n",
              "      <th></th>\n",
              "      <th>country</th>\n",
              "      <th>iso_code</th>\n",
              "      <th>date</th>\n",
              "      <th>total_vaccinations</th>\n",
              "      <th>people_vaccinated</th>\n",
              "      <th>people_fully_vaccinated</th>\n",
              "      <th>daily_vaccinations_raw</th>\n",
              "      <th>daily_vaccinations</th>\n",
              "      <th>total_vaccinations_per_hundred</th>\n",
              "      <th>people_vaccinated_per_hundred</th>\n",
              "      <th>people_fully_vaccinated_per_hundred</th>\n",
              "      <th>daily_vaccinations_per_million</th>\n",
              "      <th>vaccines</th>\n",
              "      <th>source_name</th>\n",
              "      <th>source_website</th>\n",
              "    </tr>\n",
              "  </thead>\n",
              "  <tbody>\n",
              "    <tr>\n",
              "      <th>0</th>\n",
              "      <td>Afghanistan</td>\n",
              "      <td>AFG</td>\n",
              "      <td>2021-02-22</td>\n",
              "      <td>0.0</td>\n",
              "      <td>0.0</td>\n",
              "      <td>NaN</td>\n",
              "      <td>NaN</td>\n",
              "      <td>NaN</td>\n",
              "      <td>0.0</td>\n",
              "      <td>0.0</td>\n",
              "      <td>NaN</td>\n",
              "      <td>NaN</td>\n",
              "      <td>BBIBP-CorV, Oxford/AstraZeneca, Pfizer/BioNTech</td>\n",
              "      <td>World Health Organization</td>\n",
              "      <td>https://covid19.who.int/</td>\n",
              "    </tr>\n",
              "    <tr>\n",
              "      <th>1</th>\n",
              "      <td>Afghanistan</td>\n",
              "      <td>AFG</td>\n",
              "      <td>2021-02-23</td>\n",
              "      <td>NaN</td>\n",
              "      <td>NaN</td>\n",
              "      <td>NaN</td>\n",
              "      <td>NaN</td>\n",
              "      <td>1367.0</td>\n",
              "      <td>NaN</td>\n",
              "      <td>NaN</td>\n",
              "      <td>NaN</td>\n",
              "      <td>35.0</td>\n",
              "      <td>BBIBP-CorV, Oxford/AstraZeneca, Pfizer/BioNTech</td>\n",
              "      <td>World Health Organization</td>\n",
              "      <td>https://covid19.who.int/</td>\n",
              "    </tr>\n",
              "    <tr>\n",
              "      <th>2</th>\n",
              "      <td>Afghanistan</td>\n",
              "      <td>AFG</td>\n",
              "      <td>2021-02-24</td>\n",
              "      <td>NaN</td>\n",
              "      <td>NaN</td>\n",
              "      <td>NaN</td>\n",
              "      <td>NaN</td>\n",
              "      <td>1367.0</td>\n",
              "      <td>NaN</td>\n",
              "      <td>NaN</td>\n",
              "      <td>NaN</td>\n",
              "      <td>35.0</td>\n",
              "      <td>BBIBP-CorV, Oxford/AstraZeneca, Pfizer/BioNTech</td>\n",
              "      <td>World Health Organization</td>\n",
              "      <td>https://covid19.who.int/</td>\n",
              "    </tr>\n",
              "    <tr>\n",
              "      <th>3</th>\n",
              "      <td>Afghanistan</td>\n",
              "      <td>AFG</td>\n",
              "      <td>2021-02-25</td>\n",
              "      <td>NaN</td>\n",
              "      <td>NaN</td>\n",
              "      <td>NaN</td>\n",
              "      <td>NaN</td>\n",
              "      <td>1367.0</td>\n",
              "      <td>NaN</td>\n",
              "      <td>NaN</td>\n",
              "      <td>NaN</td>\n",
              "      <td>35.0</td>\n",
              "      <td>BBIBP-CorV, Oxford/AstraZeneca, Pfizer/BioNTech</td>\n",
              "      <td>World Health Organization</td>\n",
              "      <td>https://covid19.who.int/</td>\n",
              "    </tr>\n",
              "    <tr>\n",
              "      <th>4</th>\n",
              "      <td>Afghanistan</td>\n",
              "      <td>AFG</td>\n",
              "      <td>2021-02-26</td>\n",
              "      <td>NaN</td>\n",
              "      <td>NaN</td>\n",
              "      <td>NaN</td>\n",
              "      <td>NaN</td>\n",
              "      <td>1367.0</td>\n",
              "      <td>NaN</td>\n",
              "      <td>NaN</td>\n",
              "      <td>NaN</td>\n",
              "      <td>35.0</td>\n",
              "      <td>BBIBP-CorV, Oxford/AstraZeneca, Pfizer/BioNTech</td>\n",
              "      <td>World Health Organization</td>\n",
              "      <td>https://covid19.who.int/</td>\n",
              "    </tr>\n",
              "  </tbody>\n",
              "</table>\n",
              "</div>"
            ],
            "text/plain": [
              "       country iso_code  ...                source_name            source_website\n",
              "0  Afghanistan      AFG  ...  World Health Organization  https://covid19.who.int/\n",
              "1  Afghanistan      AFG  ...  World Health Organization  https://covid19.who.int/\n",
              "2  Afghanistan      AFG  ...  World Health Organization  https://covid19.who.int/\n",
              "3  Afghanistan      AFG  ...  World Health Organization  https://covid19.who.int/\n",
              "4  Afghanistan      AFG  ...  World Health Organization  https://covid19.who.int/\n",
              "\n",
              "[5 rows x 15 columns]"
            ]
          },
          "metadata": {
            "tags": []
          },
          "execution_count": 23
        }
      ]
    },
    {
      "cell_type": "code",
      "metadata": {
        "colab": {
          "base_uri": "https://localhost:8080/"
        },
        "id": "wWD_S-cz2QNE",
        "outputId": "33bbf162-a18d-4460-d8c8-80b11de5ca43"
      },
      "source": [
        "df.isnull().any()"
      ],
      "execution_count": null,
      "outputs": [
        {
          "output_type": "execute_result",
          "data": {
            "text/plain": [
              "country                                False\n",
              "iso_code                               False\n",
              "date                                   False\n",
              "total_vaccinations                      True\n",
              "people_vaccinated                       True\n",
              "people_fully_vaccinated                 True\n",
              "daily_vaccinations_raw                  True\n",
              "daily_vaccinations                      True\n",
              "total_vaccinations_per_hundred          True\n",
              "people_vaccinated_per_hundred           True\n",
              "people_fully_vaccinated_per_hundred     True\n",
              "daily_vaccinations_per_million          True\n",
              "vaccines                               False\n",
              "source_name                            False\n",
              "source_website                         False\n",
              "dtype: bool"
            ]
          },
          "metadata": {
            "tags": []
          },
          "execution_count": 24
        }
      ]
    },
    {
      "cell_type": "code",
      "metadata": {
        "id": "oR-GJuSS3lMl"
      },
      "source": [
        "df.drop(['iso_code', 'daily_vaccinations_raw', 'total_vaccinations_per_hundred', 'people_vaccinated_per_hundred', 'people_fully_vaccinated_per_hundred', \n",
        "              'daily_vaccinations_per_million','source_name','source_website'],\n",
        "        axis = 1,\n",
        "        inplace=True)"
      ],
      "execution_count": null,
      "outputs": []
    },
    {
      "cell_type": "code",
      "metadata": {
        "colab": {
          "base_uri": "https://localhost:8080/",
          "height": 204
        },
        "id": "0qq84L2w4R9N",
        "outputId": "a554cbee-9095-46b3-8888-8f5624f2323e"
      },
      "source": [
        "df.head()"
      ],
      "execution_count": null,
      "outputs": [
        {
          "output_type": "execute_result",
          "data": {
            "text/html": [
              "<div>\n",
              "<style scoped>\n",
              "    .dataframe tbody tr th:only-of-type {\n",
              "        vertical-align: middle;\n",
              "    }\n",
              "\n",
              "    .dataframe tbody tr th {\n",
              "        vertical-align: top;\n",
              "    }\n",
              "\n",
              "    .dataframe thead th {\n",
              "        text-align: right;\n",
              "    }\n",
              "</style>\n",
              "<table border=\"1\" class=\"dataframe\">\n",
              "  <thead>\n",
              "    <tr style=\"text-align: right;\">\n",
              "      <th></th>\n",
              "      <th>country</th>\n",
              "      <th>date</th>\n",
              "      <th>total_vaccinations</th>\n",
              "      <th>people_vaccinated</th>\n",
              "      <th>people_fully_vaccinated</th>\n",
              "      <th>daily_vaccinations</th>\n",
              "      <th>vaccines</th>\n",
              "    </tr>\n",
              "  </thead>\n",
              "  <tbody>\n",
              "    <tr>\n",
              "      <th>0</th>\n",
              "      <td>Afghanistan</td>\n",
              "      <td>2021-02-22</td>\n",
              "      <td>0.0</td>\n",
              "      <td>0.0</td>\n",
              "      <td>NaN</td>\n",
              "      <td>NaN</td>\n",
              "      <td>BBIBP-CorV, Oxford/AstraZeneca, Pfizer/BioNTech</td>\n",
              "    </tr>\n",
              "    <tr>\n",
              "      <th>1</th>\n",
              "      <td>Afghanistan</td>\n",
              "      <td>2021-02-23</td>\n",
              "      <td>NaN</td>\n",
              "      <td>NaN</td>\n",
              "      <td>NaN</td>\n",
              "      <td>1367.0</td>\n",
              "      <td>BBIBP-CorV, Oxford/AstraZeneca, Pfizer/BioNTech</td>\n",
              "    </tr>\n",
              "    <tr>\n",
              "      <th>2</th>\n",
              "      <td>Afghanistan</td>\n",
              "      <td>2021-02-24</td>\n",
              "      <td>NaN</td>\n",
              "      <td>NaN</td>\n",
              "      <td>NaN</td>\n",
              "      <td>1367.0</td>\n",
              "      <td>BBIBP-CorV, Oxford/AstraZeneca, Pfizer/BioNTech</td>\n",
              "    </tr>\n",
              "    <tr>\n",
              "      <th>3</th>\n",
              "      <td>Afghanistan</td>\n",
              "      <td>2021-02-25</td>\n",
              "      <td>NaN</td>\n",
              "      <td>NaN</td>\n",
              "      <td>NaN</td>\n",
              "      <td>1367.0</td>\n",
              "      <td>BBIBP-CorV, Oxford/AstraZeneca, Pfizer/BioNTech</td>\n",
              "    </tr>\n",
              "    <tr>\n",
              "      <th>4</th>\n",
              "      <td>Afghanistan</td>\n",
              "      <td>2021-02-26</td>\n",
              "      <td>NaN</td>\n",
              "      <td>NaN</td>\n",
              "      <td>NaN</td>\n",
              "      <td>1367.0</td>\n",
              "      <td>BBIBP-CorV, Oxford/AstraZeneca, Pfizer/BioNTech</td>\n",
              "    </tr>\n",
              "  </tbody>\n",
              "</table>\n",
              "</div>"
            ],
            "text/plain": [
              "       country  ...                                         vaccines\n",
              "0  Afghanistan  ...  BBIBP-CorV, Oxford/AstraZeneca, Pfizer/BioNTech\n",
              "1  Afghanistan  ...  BBIBP-CorV, Oxford/AstraZeneca, Pfizer/BioNTech\n",
              "2  Afghanistan  ...  BBIBP-CorV, Oxford/AstraZeneca, Pfizer/BioNTech\n",
              "3  Afghanistan  ...  BBIBP-CorV, Oxford/AstraZeneca, Pfizer/BioNTech\n",
              "4  Afghanistan  ...  BBIBP-CorV, Oxford/AstraZeneca, Pfizer/BioNTech\n",
              "\n",
              "[5 rows x 7 columns]"
            ]
          },
          "metadata": {
            "tags": []
          },
          "execution_count": 26
        }
      ]
    },
    {
      "cell_type": "code",
      "metadata": {
        "colab": {
          "base_uri": "https://localhost:8080/",
          "height": 204
        },
        "id": "RnEsqDdz5yAy",
        "outputId": "3215bece-5d04-4540-a40f-6c0e9650b675"
      },
      "source": [
        "newdf = df[df.country == \"Thailand\"]\n",
        "newdf.head()"
      ],
      "execution_count": null,
      "outputs": [
        {
          "output_type": "execute_result",
          "data": {
            "text/html": [
              "<div>\n",
              "<style scoped>\n",
              "    .dataframe tbody tr th:only-of-type {\n",
              "        vertical-align: middle;\n",
              "    }\n",
              "\n",
              "    .dataframe tbody tr th {\n",
              "        vertical-align: top;\n",
              "    }\n",
              "\n",
              "    .dataframe thead th {\n",
              "        text-align: right;\n",
              "    }\n",
              "</style>\n",
              "<table border=\"1\" class=\"dataframe\">\n",
              "  <thead>\n",
              "    <tr style=\"text-align: right;\">\n",
              "      <th></th>\n",
              "      <th>country</th>\n",
              "      <th>date</th>\n",
              "      <th>total_vaccinations</th>\n",
              "      <th>people_vaccinated</th>\n",
              "      <th>people_fully_vaccinated</th>\n",
              "      <th>daily_vaccinations</th>\n",
              "      <th>vaccines</th>\n",
              "    </tr>\n",
              "  </thead>\n",
              "  <tbody>\n",
              "    <tr>\n",
              "      <th>25346</th>\n",
              "      <td>Thailand</td>\n",
              "      <td>2021-02-27</td>\n",
              "      <td>0.0</td>\n",
              "      <td>0.0</td>\n",
              "      <td>NaN</td>\n",
              "      <td>NaN</td>\n",
              "      <td>Oxford/AstraZeneca, Sinovac</td>\n",
              "    </tr>\n",
              "    <tr>\n",
              "      <th>25347</th>\n",
              "      <td>Thailand</td>\n",
              "      <td>2021-02-28</td>\n",
              "      <td>NaN</td>\n",
              "      <td>NaN</td>\n",
              "      <td>NaN</td>\n",
              "      <td>160.0</td>\n",
              "      <td>Oxford/AstraZeneca, Sinovac</td>\n",
              "    </tr>\n",
              "    <tr>\n",
              "      <th>25348</th>\n",
              "      <td>Thailand</td>\n",
              "      <td>2021-03-01</td>\n",
              "      <td>319.0</td>\n",
              "      <td>319.0</td>\n",
              "      <td>NaN</td>\n",
              "      <td>160.0</td>\n",
              "      <td>Oxford/AstraZeneca, Sinovac</td>\n",
              "    </tr>\n",
              "    <tr>\n",
              "      <th>25349</th>\n",
              "      <td>Thailand</td>\n",
              "      <td>2021-03-02</td>\n",
              "      <td>7262.0</td>\n",
              "      <td>7262.0</td>\n",
              "      <td>NaN</td>\n",
              "      <td>2421.0</td>\n",
              "      <td>Oxford/AstraZeneca, Sinovac</td>\n",
              "    </tr>\n",
              "    <tr>\n",
              "      <th>25350</th>\n",
              "      <td>Thailand</td>\n",
              "      <td>2021-03-03</td>\n",
              "      <td>NaN</td>\n",
              "      <td>NaN</td>\n",
              "      <td>NaN</td>\n",
              "      <td>2639.0</td>\n",
              "      <td>Oxford/AstraZeneca, Sinovac</td>\n",
              "    </tr>\n",
              "  </tbody>\n",
              "</table>\n",
              "</div>"
            ],
            "text/plain": [
              "        country        date  ...  daily_vaccinations                     vaccines\n",
              "25346  Thailand  2021-02-27  ...                 NaN  Oxford/AstraZeneca, Sinovac\n",
              "25347  Thailand  2021-02-28  ...               160.0  Oxford/AstraZeneca, Sinovac\n",
              "25348  Thailand  2021-03-01  ...               160.0  Oxford/AstraZeneca, Sinovac\n",
              "25349  Thailand  2021-03-02  ...              2421.0  Oxford/AstraZeneca, Sinovac\n",
              "25350  Thailand  2021-03-03  ...              2639.0  Oxford/AstraZeneca, Sinovac\n",
              "\n",
              "[5 rows x 7 columns]"
            ]
          },
          "metadata": {
            "tags": []
          },
          "execution_count": 27
        }
      ]
    },
    {
      "cell_type": "code",
      "metadata": {
        "colab": {
          "base_uri": "https://localhost:8080/",
          "height": 419
        },
        "id": "-QKHBnG19-hk",
        "outputId": "a3058b64-b749-4c13-fc0c-16629207184e"
      },
      "source": [
        "newdf.dropna()"
      ],
      "execution_count": null,
      "outputs": [
        {
          "output_type": "execute_result",
          "data": {
            "text/html": [
              "<div>\n",
              "<style scoped>\n",
              "    .dataframe tbody tr th:only-of-type {\n",
              "        vertical-align: middle;\n",
              "    }\n",
              "\n",
              "    .dataframe tbody tr th {\n",
              "        vertical-align: top;\n",
              "    }\n",
              "\n",
              "    .dataframe thead th {\n",
              "        text-align: right;\n",
              "    }\n",
              "</style>\n",
              "<table border=\"1\" class=\"dataframe\">\n",
              "  <thead>\n",
              "    <tr style=\"text-align: right;\">\n",
              "      <th></th>\n",
              "      <th>country</th>\n",
              "      <th>date</th>\n",
              "      <th>total_vaccinations</th>\n",
              "      <th>people_vaccinated</th>\n",
              "      <th>people_fully_vaccinated</th>\n",
              "      <th>daily_vaccinations</th>\n",
              "      <th>vaccines</th>\n",
              "    </tr>\n",
              "  </thead>\n",
              "  <tbody>\n",
              "    <tr>\n",
              "      <th>25371</th>\n",
              "      <td>Thailand</td>\n",
              "      <td>2021-03-24</td>\n",
              "      <td>102050.0</td>\n",
              "      <td>96188.0</td>\n",
              "      <td>5862.0</td>\n",
              "      <td>4383.0</td>\n",
              "      <td>Oxford/AstraZeneca, Sinovac</td>\n",
              "    </tr>\n",
              "    <tr>\n",
              "      <th>25377</th>\n",
              "      <td>Thailand</td>\n",
              "      <td>2021-03-30</td>\n",
              "      <td>180477.0</td>\n",
              "      <td>151413.0</td>\n",
              "      <td>29064.0</td>\n",
              "      <td>11830.0</td>\n",
              "      <td>Oxford/AstraZeneca, Sinovac</td>\n",
              "    </tr>\n",
              "    <tr>\n",
              "      <th>25379</th>\n",
              "      <td>Thailand</td>\n",
              "      <td>2021-04-01</td>\n",
              "      <td>204642.0</td>\n",
              "      <td>167235.0</td>\n",
              "      <td>37407.0</td>\n",
              "      <td>12789.0</td>\n",
              "      <td>Oxford/AstraZeneca, Sinovac</td>\n",
              "    </tr>\n",
              "    <tr>\n",
              "      <th>25380</th>\n",
              "      <td>Thailand</td>\n",
              "      <td>2021-04-02</td>\n",
              "      <td>231882.0</td>\n",
              "      <td>189666.0</td>\n",
              "      <td>42216.0</td>\n",
              "      <td>14813.0</td>\n",
              "      <td>Oxford/AstraZeneca, Sinovac</td>\n",
              "    </tr>\n",
              "    <tr>\n",
              "      <th>25381</th>\n",
              "      <td>Thailand</td>\n",
              "      <td>2021-04-03</td>\n",
              "      <td>244254.0</td>\n",
              "      <td>201864.0</td>\n",
              "      <td>42390.0</td>\n",
              "      <td>14713.0</td>\n",
              "      <td>Oxford/AstraZeneca, Sinovac</td>\n",
              "    </tr>\n",
              "    <tr>\n",
              "      <th>...</th>\n",
              "      <td>...</td>\n",
              "      <td>...</td>\n",
              "      <td>...</td>\n",
              "      <td>...</td>\n",
              "      <td>...</td>\n",
              "      <td>...</td>\n",
              "      <td>...</td>\n",
              "    </tr>\n",
              "    <tr>\n",
              "      <th>25464</th>\n",
              "      <td>Thailand</td>\n",
              "      <td>2021-06-25</td>\n",
              "      <td>8981478.0</td>\n",
              "      <td>6435308.0</td>\n",
              "      <td>2546170.0</td>\n",
              "      <td>214056.0</td>\n",
              "      <td>Oxford/AstraZeneca, Sinovac</td>\n",
              "    </tr>\n",
              "    <tr>\n",
              "      <th>25465</th>\n",
              "      <td>Thailand</td>\n",
              "      <td>2021-06-26</td>\n",
              "      <td>9055141.0</td>\n",
              "      <td>6475826.0</td>\n",
              "      <td>2579315.0</td>\n",
              "      <td>209709.0</td>\n",
              "      <td>Oxford/AstraZeneca, Sinovac</td>\n",
              "    </tr>\n",
              "    <tr>\n",
              "      <th>25466</th>\n",
              "      <td>Thailand</td>\n",
              "      <td>2021-06-27</td>\n",
              "      <td>9147513.0</td>\n",
              "      <td>6537852.0</td>\n",
              "      <td>2609661.0</td>\n",
              "      <td>209779.0</td>\n",
              "      <td>Oxford/AstraZeneca, Sinovac</td>\n",
              "    </tr>\n",
              "    <tr>\n",
              "      <th>25467</th>\n",
              "      <td>Thailand</td>\n",
              "      <td>2021-06-28</td>\n",
              "      <td>9416972.0</td>\n",
              "      <td>6721038.0</td>\n",
              "      <td>2695394.0</td>\n",
              "      <td>215754.0</td>\n",
              "      <td>Oxford/AstraZeneca, Sinovac</td>\n",
              "    </tr>\n",
              "    <tr>\n",
              "      <th>25468</th>\n",
              "      <td>Thailand</td>\n",
              "      <td>2021-06-29</td>\n",
              "      <td>9672706.0</td>\n",
              "      <td>6910169.0</td>\n",
              "      <td>2762537.0</td>\n",
              "      <td>217767.0</td>\n",
              "      <td>Oxford/AstraZeneca, Sinovac</td>\n",
              "    </tr>\n",
              "  </tbody>\n",
              "</table>\n",
              "<p>88 rows × 7 columns</p>\n",
              "</div>"
            ],
            "text/plain": [
              "        country        date  ...  daily_vaccinations                     vaccines\n",
              "25371  Thailand  2021-03-24  ...              4383.0  Oxford/AstraZeneca, Sinovac\n",
              "25377  Thailand  2021-03-30  ...             11830.0  Oxford/AstraZeneca, Sinovac\n",
              "25379  Thailand  2021-04-01  ...             12789.0  Oxford/AstraZeneca, Sinovac\n",
              "25380  Thailand  2021-04-02  ...             14813.0  Oxford/AstraZeneca, Sinovac\n",
              "25381  Thailand  2021-04-03  ...             14713.0  Oxford/AstraZeneca, Sinovac\n",
              "...         ...         ...  ...                 ...                          ...\n",
              "25464  Thailand  2021-06-25  ...            214056.0  Oxford/AstraZeneca, Sinovac\n",
              "25465  Thailand  2021-06-26  ...            209709.0  Oxford/AstraZeneca, Sinovac\n",
              "25466  Thailand  2021-06-27  ...            209779.0  Oxford/AstraZeneca, Sinovac\n",
              "25467  Thailand  2021-06-28  ...            215754.0  Oxford/AstraZeneca, Sinovac\n",
              "25468  Thailand  2021-06-29  ...            217767.0  Oxford/AstraZeneca, Sinovac\n",
              "\n",
              "[88 rows x 7 columns]"
            ]
          },
          "metadata": {
            "tags": []
          },
          "execution_count": 28
        }
      ]
    },
    {
      "cell_type": "code",
      "metadata": {
        "colab": {
          "base_uri": "https://localhost:8080/",
          "height": 469
        },
        "id": "Ox-CW_Rf5OZj",
        "outputId": "1eb7f255-40b9-4ef9-bbcc-22f851ffb7b4"
      },
      "source": [
        "fig = plt.figure(figsize = (12, 8))\n",
        "plt.plot(newdf['date'], newdf['daily_vaccinations'])\n",
        "# plt.xticks(rotation = 45)\n",
        "plt.xlabel('date')\n",
        "plt.ylabel('daily_vaccinations')\n",
        "plt.gca().axes.get_xaxis().set_visible(False)"
      ],
      "execution_count": null,
      "outputs": [
        {
          "output_type": "display_data",
          "data": {
            "image/png": "[encoded data removed]",
            "text/plain": [
              "<Figure size 864x576 with 1 Axes>"
            ]
          },
          "metadata": {
            "tags": [],
            "needs_background": "light"
          }
        }
      ]
    },
    {
      "cell_type": "code",
      "metadata": {
        "id": "2iTfuk0j7kkU"
      },
      "source": [
        "df_prophet = newdf[['date', 'daily_vaccinations']]\n",
        "df_prophet = df_prophet.rename(columns = {'date': 'ds', 'daily_vaccinations': 'y'})"
      ],
      "execution_count": null,
      "outputs": []
    },
    {
      "cell_type": "code",
      "metadata": {
        "colab": {
          "base_uri": "https://localhost:8080/",
          "height": 419
        },
        "id": "3ndblK0i8Eoz",
        "outputId": "3185d7c4-3d62-405e-b28a-4542e30f62b2"
      },
      "source": [
        "df_prophet.dropna()"
      ],
      "execution_count": null,
      "outputs": [
        {
          "output_type": "execute_result",
          "data": {
            "text/html": [
              "<div>\n",
              "<style scoped>\n",
              "    .dataframe tbody tr th:only-of-type {\n",
              "        vertical-align: middle;\n",
              "    }\n",
              "\n",
              "    .dataframe tbody tr th {\n",
              "        vertical-align: top;\n",
              "    }\n",
              "\n",
              "    .dataframe thead th {\n",
              "        text-align: right;\n",
              "    }\n",
              "</style>\n",
              "<table border=\"1\" class=\"dataframe\">\n",
              "  <thead>\n",
              "    <tr style=\"text-align: right;\">\n",
              "      <th></th>\n",
              "      <th>ds</th>\n",
              "      <th>y</th>\n",
              "    </tr>\n",
              "  </thead>\n",
              "  <tbody>\n",
              "    <tr>\n",
              "      <th>25347</th>\n",
              "      <td>2021-02-28</td>\n",
              "      <td>160.0</td>\n",
              "    </tr>\n",
              "    <tr>\n",
              "      <th>25348</th>\n",
              "      <td>2021-03-01</td>\n",
              "      <td>160.0</td>\n",
              "    </tr>\n",
              "    <tr>\n",
              "      <th>25349</th>\n",
              "      <td>2021-03-02</td>\n",
              "      <td>2421.0</td>\n",
              "    </tr>\n",
              "    <tr>\n",
              "      <th>25350</th>\n",
              "      <td>2021-03-03</td>\n",
              "      <td>2639.0</td>\n",
              "    </tr>\n",
              "    <tr>\n",
              "      <th>25351</th>\n",
              "      <td>2021-03-04</td>\n",
              "      <td>2770.0</td>\n",
              "    </tr>\n",
              "    <tr>\n",
              "      <th>...</th>\n",
              "      <td>...</td>\n",
              "      <td>...</td>\n",
              "    </tr>\n",
              "    <tr>\n",
              "      <th>25464</th>\n",
              "      <td>2021-06-25</td>\n",
              "      <td>214056.0</td>\n",
              "    </tr>\n",
              "    <tr>\n",
              "      <th>25465</th>\n",
              "      <td>2021-06-26</td>\n",
              "      <td>209709.0</td>\n",
              "    </tr>\n",
              "    <tr>\n",
              "      <th>25466</th>\n",
              "      <td>2021-06-27</td>\n",
              "      <td>209779.0</td>\n",
              "    </tr>\n",
              "    <tr>\n",
              "      <th>25467</th>\n",
              "      <td>2021-06-28</td>\n",
              "      <td>215754.0</td>\n",
              "    </tr>\n",
              "    <tr>\n",
              "      <th>25468</th>\n",
              "      <td>2021-06-29</td>\n",
              "      <td>217767.0</td>\n",
              "    </tr>\n",
              "  </tbody>\n",
              "</table>\n",
              "<p>122 rows × 2 columns</p>\n",
              "</div>"
            ],
            "text/plain": [
              "               ds         y\n",
              "25347  2021-02-28     160.0\n",
              "25348  2021-03-01     160.0\n",
              "25349  2021-03-02    2421.0\n",
              "25350  2021-03-03    2639.0\n",
              "25351  2021-03-04    2770.0\n",
              "...           ...       ...\n",
              "25464  2021-06-25  214056.0\n",
              "25465  2021-06-26  209709.0\n",
              "25466  2021-06-27  209779.0\n",
              "25467  2021-06-28  215754.0\n",
              "25468  2021-06-29  217767.0\n",
              "\n",
              "[122 rows x 2 columns]"
            ]
          },
          "metadata": {
            "tags": []
          },
          "execution_count": 33
        }
      ]
    },
    {
      "cell_type": "code",
      "metadata": {
        "colab": {
          "base_uri": "https://localhost:8080/"
        },
        "id": "Huq-Fh1a_UTL",
        "outputId": "4cb03f77-4387-410e-b8de-57ff63abd11a"
      },
      "source": [
        "m = Prophet()\n",
        "m.fit(df_prophet)"
      ],
      "execution_count": null,
      "outputs": [
        {
          "output_type": "stream",
          "text": [
            "INFO:fbprophet:Disabling yearly seasonality. Run prophet with yearly_seasonality=True to override this.\n",
            "INFO:fbprophet:Disabling daily seasonality. Run prophet with daily_seasonality=True to override this.\n"
          ],
          "name": "stderr"
        },
        {
          "output_type": "execute_result",
          "data": {
            "text/plain": [
              "<fbprophet.forecaster.Prophet at 0x7fde12fe2fd0>"
            ]
          },
          "metadata": {
            "tags": []
          },
          "execution_count": 34
        }
      ]
    },
    {
      "cell_type": "code",
      "metadata": {
        "id": "XP0S4FXY_aIz"
      },
      "source": [
        "future = m.make_future_dataframe(periods = 15)\n",
        "forecast = m.predict(future)"
      ],
      "execution_count": null,
      "outputs": []
    },
    {
      "cell_type": "code",
      "metadata": {
        "colab": {
          "base_uri": "https://localhost:8080/",
          "height": 609
        },
        "id": "CCkfe3h1_d6C",
        "outputId": "baa8bf2b-66a3-444e-d507-4b4cfee468a7"
      },
      "source": [
        "forecast"
      ],
      "execution_count": null,
      "outputs": [
        {
          "output_type": "execute_result",
          "data": {
            "text/html": [
              "<div>\n",
              "<style scoped>\n",
              "    .dataframe tbody tr th:only-of-type {\n",
              "        vertical-align: middle;\n",
              "    }\n",
              "\n",
              "    .dataframe tbody tr th {\n",
              "        vertical-align: top;\n",
              "    }\n",
              "\n",
              "    .dataframe thead th {\n",
              "        text-align: right;\n",
              "    }\n",
              "</style>\n",
              "<table border=\"1\" class=\"dataframe\">\n",
              "  <thead>\n",
              "    <tr style=\"text-align: right;\">\n",
              "      <th></th>\n",
              "      <th>ds</th>\n",
              "      <th>trend</th>\n",
              "      <th>yhat_lower</th>\n",
              "      <th>yhat_upper</th>\n",
              "      <th>trend_lower</th>\n",
              "      <th>trend_upper</th>\n",
              "      <th>additive_terms</th>\n",
              "      <th>additive_terms_lower</th>\n",
              "      <th>additive_terms_upper</th>\n",
              "      <th>weekly</th>\n",
              "      <th>weekly_lower</th>\n",
              "      <th>weekly_upper</th>\n",
              "      <th>multiplicative_terms</th>\n",
              "      <th>multiplicative_terms_lower</th>\n",
              "      <th>multiplicative_terms_upper</th>\n",
              "      <th>yhat</th>\n",
              "    </tr>\n",
              "  </thead>\n",
              "  <tbody>\n",
              "    <tr>\n",
              "      <th>0</th>\n",
              "      <td>2021-02-27</td>\n",
              "      <td>-14729.707648</td>\n",
              "      <td>-47140.256867</td>\n",
              "      <td>18391.394608</td>\n",
              "      <td>-14729.707648</td>\n",
              "      <td>-14729.707648</td>\n",
              "      <td>-259.381839</td>\n",
              "      <td>-259.381839</td>\n",
              "      <td>-259.381839</td>\n",
              "      <td>-259.381839</td>\n",
              "      <td>-259.381839</td>\n",
              "      <td>-259.381839</td>\n",
              "      <td>0.0</td>\n",
              "      <td>0.0</td>\n",
              "      <td>0.0</td>\n",
              "      <td>-14989.089487</td>\n",
              "    </tr>\n",
              "    <tr>\n",
              "      <th>1</th>\n",
              "      <td>2021-02-28</td>\n",
              "      <td>-13688.215201</td>\n",
              "      <td>-50699.646387</td>\n",
              "      <td>22708.286486</td>\n",
              "      <td>-13688.215201</td>\n",
              "      <td>-13688.215201</td>\n",
              "      <td>-706.335797</td>\n",
              "      <td>-706.335797</td>\n",
              "      <td>-706.335797</td>\n",
              "      <td>-706.335797</td>\n",
              "      <td>-706.335797</td>\n",
              "      <td>-706.335797</td>\n",
              "      <td>0.0</td>\n",
              "      <td>0.0</td>\n",
              "      <td>0.0</td>\n",
              "      <td>-14394.550999</td>\n",
              "    </tr>\n",
              "    <tr>\n",
              "      <th>2</th>\n",
              "      <td>2021-03-01</td>\n",
              "      <td>-12646.722755</td>\n",
              "      <td>-50852.260225</td>\n",
              "      <td>21865.209073</td>\n",
              "      <td>-12646.722755</td>\n",
              "      <td>-12646.722755</td>\n",
              "      <td>-684.361205</td>\n",
              "      <td>-684.361205</td>\n",
              "      <td>-684.361205</td>\n",
              "      <td>-684.361205</td>\n",
              "      <td>-684.361205</td>\n",
              "      <td>-684.361205</td>\n",
              "      <td>0.0</td>\n",
              "      <td>0.0</td>\n",
              "      <td>0.0</td>\n",
              "      <td>-13331.083960</td>\n",
              "    </tr>\n",
              "    <tr>\n",
              "      <th>3</th>\n",
              "      <td>2021-03-02</td>\n",
              "      <td>-11605.230309</td>\n",
              "      <td>-48496.565713</td>\n",
              "      <td>23461.846005</td>\n",
              "      <td>-11605.230309</td>\n",
              "      <td>-11605.230309</td>\n",
              "      <td>-699.302397</td>\n",
              "      <td>-699.302397</td>\n",
              "      <td>-699.302397</td>\n",
              "      <td>-699.302397</td>\n",
              "      <td>-699.302397</td>\n",
              "      <td>-699.302397</td>\n",
              "      <td>0.0</td>\n",
              "      <td>0.0</td>\n",
              "      <td>0.0</td>\n",
              "      <td>-12304.532706</td>\n",
              "    </tr>\n",
              "    <tr>\n",
              "      <th>4</th>\n",
              "      <td>2021-03-03</td>\n",
              "      <td>-10563.737862</td>\n",
              "      <td>-45179.892815</td>\n",
              "      <td>26335.056437</td>\n",
              "      <td>-10563.737862</td>\n",
              "      <td>-10563.737862</td>\n",
              "      <td>513.373314</td>\n",
              "      <td>513.373314</td>\n",
              "      <td>513.373314</td>\n",
              "      <td>513.373314</td>\n",
              "      <td>513.373314</td>\n",
              "      <td>513.373314</td>\n",
              "      <td>0.0</td>\n",
              "      <td>0.0</td>\n",
              "      <td>0.0</td>\n",
              "      <td>-10050.364548</td>\n",
              "    </tr>\n",
              "    <tr>\n",
              "      <th>...</th>\n",
              "      <td>...</td>\n",
              "      <td>...</td>\n",
              "      <td>...</td>\n",
              "      <td>...</td>\n",
              "      <td>...</td>\n",
              "      <td>...</td>\n",
              "      <td>...</td>\n",
              "      <td>...</td>\n",
              "      <td>...</td>\n",
              "      <td>...</td>\n",
              "      <td>...</td>\n",
              "      <td>...</td>\n",
              "      <td>...</td>\n",
              "      <td>...</td>\n",
              "      <td>...</td>\n",
              "      <td>...</td>\n",
              "    </tr>\n",
              "    <tr>\n",
              "      <th>133</th>\n",
              "      <td>2021-07-10</td>\n",
              "      <td>277487.258396</td>\n",
              "      <td>240980.224729</td>\n",
              "      <td>310001.948092</td>\n",
              "      <td>275930.050395</td>\n",
              "      <td>279106.793977</td>\n",
              "      <td>-259.381839</td>\n",
              "      <td>-259.381839</td>\n",
              "      <td>-259.381839</td>\n",
              "      <td>-259.381839</td>\n",
              "      <td>-259.381839</td>\n",
              "      <td>-259.381839</td>\n",
              "      <td>0.0</td>\n",
              "      <td>0.0</td>\n",
              "      <td>0.0</td>\n",
              "      <td>277227.876557</td>\n",
              "    </tr>\n",
              "    <tr>\n",
              "      <th>134</th>\n",
              "      <td>2021-07-11</td>\n",
              "      <td>281211.831977</td>\n",
              "      <td>244006.240733</td>\n",
              "      <td>314189.402747</td>\n",
              "      <td>279389.174803</td>\n",
              "      <td>283162.984010</td>\n",
              "      <td>-706.335797</td>\n",
              "      <td>-706.335797</td>\n",
              "      <td>-706.335797</td>\n",
              "      <td>-706.335797</td>\n",
              "      <td>-706.335797</td>\n",
              "      <td>-706.335797</td>\n",
              "      <td>0.0</td>\n",
              "      <td>0.0</td>\n",
              "      <td>0.0</td>\n",
              "      <td>280505.496179</td>\n",
              "    </tr>\n",
              "    <tr>\n",
              "      <th>135</th>\n",
              "      <td>2021-07-12</td>\n",
              "      <td>284936.405558</td>\n",
              "      <td>248401.570155</td>\n",
              "      <td>320193.435367</td>\n",
              "      <td>282854.126210</td>\n",
              "      <td>287098.839510</td>\n",
              "      <td>-684.361205</td>\n",
              "      <td>-684.361205</td>\n",
              "      <td>-684.361205</td>\n",
              "      <td>-684.361205</td>\n",
              "      <td>-684.361205</td>\n",
              "      <td>-684.361205</td>\n",
              "      <td>0.0</td>\n",
              "      <td>0.0</td>\n",
              "      <td>0.0</td>\n",
              "      <td>284252.044353</td>\n",
              "    </tr>\n",
              "    <tr>\n",
              "      <th>136</th>\n",
              "      <td>2021-07-13</td>\n",
              "      <td>288660.979139</td>\n",
              "      <td>252675.171945</td>\n",
              "      <td>326696.239037</td>\n",
              "      <td>286314.433276</td>\n",
              "      <td>291091.788259</td>\n",
              "      <td>-699.302397</td>\n",
              "      <td>-699.302397</td>\n",
              "      <td>-699.302397</td>\n",
              "      <td>-699.302397</td>\n",
              "      <td>-699.302397</td>\n",
              "      <td>-699.302397</td>\n",
              "      <td>0.0</td>\n",
              "      <td>0.0</td>\n",
              "      <td>0.0</td>\n",
              "      <td>287961.676742</td>\n",
              "    </tr>\n",
              "    <tr>\n",
              "      <th>137</th>\n",
              "      <td>2021-07-14</td>\n",
              "      <td>292385.552719</td>\n",
              "      <td>257087.011251</td>\n",
              "      <td>326885.800200</td>\n",
              "      <td>289821.988841</td>\n",
              "      <td>295080.138421</td>\n",
              "      <td>513.373314</td>\n",
              "      <td>513.373314</td>\n",
              "      <td>513.373314</td>\n",
              "      <td>513.373314</td>\n",
              "      <td>513.373314</td>\n",
              "      <td>513.373314</td>\n",
              "      <td>0.0</td>\n",
              "      <td>0.0</td>\n",
              "      <td>0.0</td>\n",
              "      <td>292898.926033</td>\n",
              "    </tr>\n",
              "  </tbody>\n",
              "</table>\n",
              "<p>138 rows × 16 columns</p>\n",
              "</div>"
            ],
            "text/plain": [
              "            ds          trend  ...  multiplicative_terms_upper           yhat\n",
              "0   2021-02-27  -14729.707648  ...                         0.0  -14989.089487\n",
              "1   2021-02-28  -13688.215201  ...                         0.0  -14394.550999\n",
              "2   2021-03-01  -12646.722755  ...                         0.0  -13331.083960\n",
              "3   2021-03-02  -11605.230309  ...                         0.0  -12304.532706\n",
              "4   2021-03-03  -10563.737862  ...                         0.0  -10050.364548\n",
              "..         ...            ...  ...                         ...            ...\n",
              "133 2021-07-10  277487.258396  ...                         0.0  277227.876557\n",
              "134 2021-07-11  281211.831977  ...                         0.0  280505.496179\n",
              "135 2021-07-12  284936.405558  ...                         0.0  284252.044353\n",
              "136 2021-07-13  288660.979139  ...                         0.0  287961.676742\n",
              "137 2021-07-14  292385.552719  ...                         0.0  292898.926033\n",
              "\n",
              "[138 rows x 16 columns]"
            ]
          },
          "metadata": {
            "tags": []
          },
          "execution_count": 43
        }
      ]
    },
    {
      "cell_type": "code",
      "metadata": {
        "colab": {
          "base_uri": "https://localhost:8080/",
          "height": 441
        },
        "id": "_6V-ihGE_i1S",
        "outputId": "f945863d-3e8e-4bc4-defb-a322be9e3052"
      },
      "source": [
        "figure = m.plot(forecast, xlabel = 'Date', ylabel = 'Price')"
      ],
      "execution_count": null,
      "outputs": [
        {
          "output_type": "display_data",
          "data": {
            "image/png": "[encoded data removed]",
            "text/plain": [
              "<Figure size 720x432 with 1 Axes>"
            ]
          },
          "metadata": {
            "tags": []
          }
        }
      ]
    },
    {
      "cell_type": "code",
      "metadata": {
        "colab": {
          "base_uri": "https://localhost:8080/",
          "height": 441
        },
        "id": "ooPJ1Omf_yjh",
        "outputId": "49dcbd4a-3bdf-4459-de6c-30a6e8a2912f"
      },
      "source": [
        "figure = m.plot_components(forecast)"
      ],
      "execution_count": null,
      "outputs": [
        {
          "output_type": "display_data",
          "data": {
            "image/png": "[encoded data removed]",
            "text/plain": [
              "<Figure size 648x432 with 2 Axes>"
            ]
          },
          "metadata": {
            "tags": []
          }
        }
      ]
    }
  ]
}